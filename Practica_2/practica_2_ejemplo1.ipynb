{
 "cells": [
  {
   "cell_type": "markdown",
   "id": "53a83c73",
   "metadata": {},
   "source": [
    "# Práctica 2 \n",
    "\n",
    "Aprendizaje Máquina \n",
    " \n",
    "**Implementa al menos tres de los ejemplos propuestos al final de la documentación.**\n",
    "\n",
    "## Clustering text documents using k-means\n",
    "\n",
    "Este es un ejemplo que muestra cómo se puede utilizar la API scikit-learn para agrupar documentos por temas utilizando un enfoque de Bolsa de palabras.\n",
    "\n",
    "Se demuestran dos algoritmos, KMeans y su variante más escalable, MiniBatchKMeans. Además, el análisis semántico latente se utiliza para reducir la dimensionalidad y descubrir patrones latentes en los datos.\n",
    "\n",
    "Este ejemplo utiliza dos vectorizadores de texto diferentes: un TfidfVectorizer y un HashingVectorizer. \n",
    "\n",
    "Para el análisis de documentos mediante un enfoque de aprendizaje supervisado, consulte el script de ejemplo Clasificación de documentos de texto utilizando funciones dispersas.\n",
    "\n",
    "\n",
    "#### Autores del ejemplo propuesto. \n",
    "\n",
    "Peter Prettenhofer <peter.prettenhofer@gmail.com>\n",
    "         Lars Buitinck\n",
    "         Olivier Grisel <olivier.grisel@ensta.org>\n",
    "         Arturo Amor <david-arturo.amor-quiroz@inria.fr>\n",
    "License: BSD 3 clause\n",
    "\n",
    "#### Recuperado de\n",
    "\n",
    "https://scikit-learn.org/stable/auto_examples/text/plot_document_clustering.html"
   ]
  },
  {
   "cell_type": "code",
   "execution_count": 29,
   "id": "1e047974",
   "metadata": {},
   "outputs": [],
   "source": [
    "# Práctica 2 \n",
    "\n",
    "# Clustering text documents using k-means\n",
    "\n",
    "import numpy as np \n",
    "\n",
    "from sklearn.datasets import fetch_20newsgroups\n",
    "\n",
    "#Lista de articulos de texto\n",
    "categories= [\n",
    "    \"alt.atheism\", \n",
    "    \"talk.religion.misc\", \n",
    "    \"comp.graphics\", \n",
    "    \"sci.space\", \n",
    "]"
   ]
  },
  {
   "cell_type": "code",
   "execution_count": 15,
   "id": "9ce4bb5f",
   "metadata": {},
   "outputs": [
    {
     "name": "stdout",
     "output_type": "stream",
     "text": [
      "3387 documentos -4 categorias\n"
     ]
    }
   ],
   "source": [
    "#limpiar la info del dataset \n",
    "dataset= fetch_20newsgroups(\n",
    "    remove=(\"headers\",\"footers\",\"quotes\"), \n",
    "    subset=\"all\", \n",
    "    categories=categories, \n",
    "    shuffle=True,\n",
    "    random_state=42, \n",
    ")\n",
    "\n",
    "\n",
    "#se recupera el número de documentos y categorias del dataset \n",
    "labels= dataset.target \n",
    "unique_labels, category_sizes= np.unique(labels, return_counts= True)\n",
    "true_k= unique_labels.shape[0]\n",
    "print(f\"{len(dataset.data)} documentos -{true_k} categorias\")\n"
   ]
  },
  {
   "cell_type": "code",
   "execution_count": 38,
   "id": "90a72a1d",
   "metadata": {},
   "outputs": [],
   "source": [
    "from collections import defaultdict\n",
    "from time import time\n",
    "\n",
    "from sklearn import metrics\n",
    "\n",
    "evaluations = []\n",
    "evaluations_std = []\n",
    "\n",
    "\n",
    "def fit_and_evaluate(km, X, name=None, n_runs=5):\n",
    "    name = km.__class__.__name__ if name is None else name\n",
    "\n",
    "    train_times = []\n",
    "    scores = defaultdict(list)\n",
    "    for seed in range(n_runs):\n",
    "        km.set_params(random_state=seed)\n",
    "        t0 = time()\n",
    "        km.fit(X)\n",
    "        train_times.append(time() - t0)\n",
    "        scores[\"Homogeneity\"].append(metrics.homogeneity_score(labels, km.labels_))\n",
    "        scores[\"Completeness\"].append(metrics.completeness_score(labels, km.labels_))\n",
    "        scores[\"V-measure\"].append(metrics.v_measure_score(labels, km.labels_))\n",
    "        scores[\"Adjusted Rand-Index\"].append(\n",
    "            metrics.adjusted_rand_score(labels, km.labels_)\n",
    "        )\n",
    "        scores[\"Silhouette Coefficient\"].append(\n",
    "            metrics.silhouette_score(X, km.labels_, sample_size=2000)\n",
    "        )\n",
    "    train_times = np.asarray(train_times)\n",
    "\n",
    "    print(f\"clustering hecho en:  {train_times.mean():.2f} ± {train_times.std():.2f} s \")\n",
    "    evaluation = {\n",
    "        \"estimator\": name,\n",
    "        \"train_time\": train_times.mean(),\n",
    "    }\n",
    "    evaluation_std = {\n",
    "        \"estimator\": name,\n",
    "        \"train_time\": train_times.std(),\n",
    "    }\n",
    "    for score_name, score_values in scores.items():\n",
    "        mean_score, std_score = np.mean(score_values), np.std(score_values)\n",
    "        print(f\"{score_name}: {mean_score:.3f} ± {std_score:.3f}\")\n",
    "        evaluation[score_name] = mean_score\n",
    "        evaluation_std[score_name] = std_score\n",
    "    evaluations.append(evaluation)\n",
    "    evaluations_std.append(evaluation_std)"
   ]
  },
  {
   "cell_type": "code",
   "execution_count": 31,
   "id": "0999ce07",
   "metadata": {},
   "outputs": [
    {
     "name": "stdout",
     "output_type": "stream",
     "text": [
      "vectorizacion hecha en: 0.614 s\n",
      "muestras: 3387, n_features: 7929\n"
     ]
    }
   ],
   "source": [
    "from sklearn.feature_extraction.text import TfidfVectorizer\n",
    "\n",
    "vectorizer = TfidfVectorizer(\n",
    "    max_df=0.5,\n",
    "    min_df=5,\n",
    "    stop_words=\"english\",\n",
    ")\n",
    "t0 = time()\n",
    "X_tfidf = vectorizer.fit_transform(dataset.data)\n",
    "\n",
    "print(f\"vectorizacion hecha en: {time() - t0:.3f} s\")\n",
    "print(f\"muestras: {X_tfidf.shape[0]}, n_features: {X_tfidf.shape[1]}\")"
   ]
  },
  {
   "cell_type": "code",
   "execution_count": 18,
   "id": "fe60ac33",
   "metadata": {},
   "outputs": [
    {
     "name": "stdout",
     "output_type": "stream",
     "text": [
      "0.007\n"
     ]
    }
   ],
   "source": [
    "print(f\"{X_tfidf.nnz / np.prod(X_tfidf.shape):.3f}\")"
   ]
  },
  {
   "cell_type": "code",
   "execution_count": 32,
   "id": "20004e21",
   "metadata": {},
   "outputs": [
    {
     "name": "stdout",
     "output_type": "stream",
     "text": [
      "Numero de elementos asignados a cada cluster: [ 481  675 1785  446]\n",
      "Numero de elementos asignados a cada cluster: [1689  638  480  580]\n",
      "Numero de elementos asignados a cada cluster: [   1    1    1 3384]\n",
      "Numero de elementos asignados a cada cluster: [1887  311  332  857]\n",
      "Numero de elementos asignados a cada cluster: [ 291  673 1771  652]\n",
      "\n",
      "Número verdadero de Documentos en cada categoria según las etiquetas (labels) de clases: [799 973 987 628]\n"
     ]
    }
   ],
   "source": [
    "from sklearn.cluster import KMeans\n",
    "\n",
    "for seed in range(5):\n",
    "    kmeans = KMeans(\n",
    "        n_clusters=true_k,\n",
    "        max_iter=100,\n",
    "        n_init=1,\n",
    "        random_state=seed,\n",
    "    ).fit(X_tfidf)\n",
    "    cluster_ids, cluster_sizes = np.unique(kmeans.labels_, return_counts=True)\n",
    "    print(f\"Numero de elementos asignados a cada cluster: {cluster_sizes}\")\n",
    "print()\n",
    "print(\n",
    "    \"Número verdadero de Documentos en cada categoria según las etiquetas (labels) de clases: \"\n",
    "    f\"{category_sizes}\"\n",
    ")"
   ]
  },
  {
   "cell_type": "code",
   "execution_count": 20,
   "id": "808d0342",
   "metadata": {},
   "outputs": [
    {
     "name": "stdout",
     "output_type": "stream",
     "text": [
      "clustering hecho en:  0.24 ± 0.04 s \n",
      "Homogeneity: 0.349 ± 0.010\n",
      "Completeness: 0.398 ± 0.009\n",
      "V-measure: 0.372 ± 0.009\n",
      "Adjusted Rand-Index: 0.203 ± 0.017\n",
      "Silhouette Coefficient: 0.007 ± 0.001\n"
     ]
    }
   ],
   "source": [
    "kmeans = KMeans(\n",
    "    n_clusters=true_k,\n",
    "    max_iter=100,\n",
    "    n_init=5,\n",
    ")\n",
    "\n",
    "fit_and_evaluate(kmeans, X_tfidf, name=\"KMeans\\non tf-idf vectors\")"
   ]
  },
  {
   "cell_type": "code",
   "execution_count": 33,
   "id": "07dfec5c",
   "metadata": {},
   "outputs": [
    {
     "name": "stdout",
     "output_type": "stream",
     "text": [
      "LSA hecho en: 0.784 s\n",
      "Explained variance of the SVD step: 18.4%\n"
     ]
    }
   ],
   "source": [
    "from sklearn.decomposition import TruncatedSVD\n",
    "from sklearn.pipeline import make_pipeline\n",
    "from sklearn.preprocessing import Normalizer\n",
    "\n",
    "lsa = make_pipeline(TruncatedSVD(n_components=100), Normalizer(copy=False))\n",
    "t0 = time()\n",
    "X_lsa = lsa.fit_transform(X_tfidf)\n",
    "explained_variance = lsa[0].explained_variance_ratio_.sum()\n",
    "\n",
    "print(f\"LSA hecho en: {time() - t0:.3f} s\")\n",
    "print(f\"Explained variance of the SVD step: {explained_variance * 100:.1f}%\")"
   ]
  },
  {
   "cell_type": "code",
   "execution_count": 34,
   "id": "5efaa04e",
   "metadata": {},
   "outputs": [
    {
     "name": "stdout",
     "output_type": "stream",
     "text": [
      "clustering hecho en:  0.09 ± 0.04 s \n",
      "Homogeneity: 0.399 ± 0.003\n",
      "Completeness: 0.447 ± 0.011\n",
      "V-measure: 0.421 ± 0.007\n",
      "Adjusted Rand-Index: 0.326 ± 0.011\n",
      "Silhouette Coefficient: 0.030 ± 0.001\n"
     ]
    }
   ],
   "source": [
    "kmeans = KMeans(\n",
    "    n_clusters=true_k,\n",
    "    max_iter=100,\n",
    "    n_init=1,\n",
    ")\n",
    "\n",
    "fit_and_evaluate(kmeans, X_lsa, name=\"KMeans\\nwith LSA on tf-idf vectors\")"
   ]
  },
  {
   "cell_type": "code",
   "execution_count": 35,
   "id": "3210770e",
   "metadata": {},
   "outputs": [
    {
     "name": "stdout",
     "output_type": "stream",
     "text": [
      "clustering hecho en:  0.11 ± 0.03 s \n",
      "Homogeneity: 0.304 ± 0.066\n",
      "Completeness: 0.333 ± 0.067\n",
      "V-measure: 0.317 ± 0.066\n",
      "Adjusted Rand-Index: 0.276 ± 0.047\n",
      "Silhouette Coefficient: 0.027 ± 0.004\n"
     ]
    }
   ],
   "source": [
    "from sklearn.cluster import MiniBatchKMeans\n",
    "\n",
    "minibatch_kmeans = MiniBatchKMeans(\n",
    "    n_clusters=true_k,\n",
    "    n_init=1,\n",
    "    init_size=1000,\n",
    "    batch_size=1000,\n",
    ")\n",
    "\n",
    "fit_and_evaluate(\n",
    "    minibatch_kmeans,\n",
    "    X_lsa,\n",
    "    name=\"MiniBatchKMeans\\nwith LSA on tf-idf vectors\",\n",
    ")"
   ]
  },
  {
   "cell_type": "code",
   "execution_count": 24,
   "id": "eea512cb",
   "metadata": {},
   "outputs": [
    {
     "name": "stdout",
     "output_type": "stream",
     "text": [
      "Cluster 0: space nasa shuttle station sci launch program like think just \n",
      "Cluster 1: thanks graphics image know files edu file does program looking \n",
      "Cluster 2: god people think don say just jesus religion know believe \n",
      "Cluster 3: just like orbit earth time moon years launch think mission \n"
     ]
    }
   ],
   "source": [
    "original_space_centroids = lsa[0].inverse_transform(kmeans.cluster_centers_)\n",
    "order_centroids = original_space_centroids.argsort()[:, ::-1]\n",
    "terms = vectorizer.get_feature_names_out()\n",
    "\n",
    "for i in range(true_k):\n",
    "    print(f\"Cluster {i}: \", end=\"\")\n",
    "    for ind in order_centroids[i, :10]:\n",
    "        print(f\"{terms[ind]} \", end=\"\")\n",
    "    print()"
   ]
  },
  {
   "cell_type": "code",
   "execution_count": 36,
   "id": "83d600ad",
   "metadata": {},
   "outputs": [
    {
     "name": "stdout",
     "output_type": "stream",
     "text": [
      "vectorization done in 3.657 s\n"
     ]
    }
   ],
   "source": [
    "from sklearn.feature_extraction.text import HashingVectorizer, TfidfTransformer\n",
    "\n",
    "lsa_vectorizer = make_pipeline(\n",
    "    HashingVectorizer(stop_words=\"english\", n_features=50_000),\n",
    "    TfidfTransformer(),\n",
    "    TruncatedSVD(n_components=100, random_state=0),\n",
    "    Normalizer(copy=False),\n",
    ")\n",
    "\n",
    "t0 = time()\n",
    "X_hashed_lsa = lsa_vectorizer.fit_transform(dataset.data)\n",
    "print(f\"vectorization done in {time() - t0:.3f} s\")"
   ]
  },
  {
   "cell_type": "code",
   "execution_count": 26,
   "id": "9c9687ce",
   "metadata": {},
   "outputs": [
    {
     "name": "stdout",
     "output_type": "stream",
     "text": [
      "clustering hecho en:  0.08 ± 0.04 s \n",
      "Homogeneity: 0.395 ± 0.010\n",
      "Completeness: 0.446 ± 0.015\n",
      "V-measure: 0.419 ± 0.012\n",
      "Adjusted Rand-Index: 0.320 ± 0.013\n",
      "Silhouette Coefficient: 0.030 ± 0.001\n"
     ]
    }
   ],
   "source": [
    "fit_and_evaluate(kmeans, X_hashed_lsa, name=\"KMeans\\nwith LSA on hashed vectors\")"
   ]
  },
  {
   "cell_type": "code",
   "execution_count": 37,
   "id": "374fb25b",
   "metadata": {},
   "outputs": [
    {
     "name": "stdout",
     "output_type": "stream",
     "text": [
      "clustering hecho en:  0.08 ± 0.04 s \n",
      "Homogeneity: 0.343 ± 0.053\n",
      "Completeness: 0.354 ± 0.047\n",
      "V-measure: 0.348 ± 0.050\n",
      "Adjusted Rand-Index: 0.303 ± 0.055\n",
      "Silhouette Coefficient: 0.025 ± 0.003\n"
     ]
    }
   ],
   "source": [
    "fit_and_evaluate(\n",
    "    minibatch_kmeans,\n",
    "    X_hashed_lsa,\n",
    "    name=\"MiniBatchKMeans\\nwith LSA on hashed vectors\",\n",
    ")"
   ]
  },
  {
   "cell_type": "code",
   "execution_count": 28,
   "id": "b4327b87",
   "metadata": {},
   "outputs": [
    {
     "data": {
      "image/png": "[encoded data removed]",
      "text/plain": [
       "<Figure size 1600x600 with 2 Axes>"
      ]
     },
     "metadata": {},
     "output_type": "display_data"
    }
   ],
   "source": [
    "import matplotlib.pyplot as plt\n",
    "import pandas as pd\n",
    "\n",
    "fig, (ax0, ax1) = plt.subplots(ncols=2, figsize=(16, 6), sharey=True)\n",
    "\n",
    "df = pd.DataFrame(evaluations[::-1]).set_index(\"estimator\")\n",
    "df_std = pd.DataFrame(evaluations_std[::-1]).set_index(\"estimator\")\n",
    "\n",
    "df.drop(\n",
    "    [\"train_time\"],\n",
    "    axis=\"columns\",\n",
    ").plot.barh(ax=ax0, xerr=df_std)\n",
    "ax0.set_xlabel(\"Clustering scores\")\n",
    "ax0.set_ylabel(\"\")\n",
    "\n",
    "df[\"train_time\"].plot.barh(ax=ax1, xerr=df_std[\"train_time\"])\n",
    "ax1.set_xlabel(\"Clustering time (s)\")\n",
    "plt.tight_layout()"
   ]
  }
 ],
 "metadata": {
  "kernelspec": {
   "display_name": "Env",
   "language": "python",
   "name": "env"
  },
  "language_info": {
   "codemirror_mode": {
    "name": "ipython",
    "version": 3
   },
   "file_extension": ".py",
   "mimetype": "text/x-python",
   "name": "python",
   "nbconvert_exporter": "python",
   "pygments_lexer": "ipython3",
   "version": "3.11.4"
  }
 },
 "nbformat": 4,
 "nbformat_minor": 5
}
