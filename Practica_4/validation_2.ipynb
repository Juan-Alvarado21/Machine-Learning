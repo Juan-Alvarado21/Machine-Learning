{
 "cells": [
  {
   "cell_type": "code",
   "execution_count": 3,
   "id": "068dcaf8",
   "metadata": {},
   "outputs": [
    {
     "name": "stdout",
     "output_type": "stream",
     "text": [
      "Hold-Out Validation:\n",
      " - Conjunto de entrenamiento: (1382, 6)\n",
      " - Conjunto de prueba: (346, 6)\n",
      "\n"
     ]
    }
   ],
   "source": [
    "from ucimlrepo import fetch_ucirepo\n",
    "from sklearn.model_selection import train_test_split, KFold, LeaveOneOut\n",
    "import pandas as pd\n",
    "\n",
    "# Cargar dataset\n",
    "car_evaluation = fetch_ucirepo(id=19)\n",
    "X = car_evaluation.data.features\n",
    "y = car_evaluation.data.targets\n",
    "\n",
    "# Hold-Out Validation (valor de r)\n",
    "r = 0.2\n",
    "train_set, test_set = train_test_split(X, test_size=r, random_state=42, shuffle=True)\n",
    "\n",
    "# Imprimir los tamaños para Hold-Out\n",
    "print(f\"Hold-Out Validation:\")\n",
    "print(f\" - Conjunto de entrenamiento: {train_set.shape}\")\n",
    "print(f\" - Conjunto de prueba: {test_set.shape}\\n\")\n",
    "\n"
   ]
  },
  {
   "cell_type": "code",
   "execution_count": 4,
   "id": "5e89bfad",
   "metadata": {},
   "outputs": [
    {
     "name": "stdout",
     "output_type": "stream",
     "text": [
      "K-Fold Cross-Validation:\n",
      "Fold 1:\n",
      " - Conjunto de entrenamiento: (1382, 6)\n",
      " - Conjunto de prueba: (346, 6)\n",
      "\n",
      "Fold 2:\n",
      " - Conjunto de entrenamiento: (1382, 6)\n",
      " - Conjunto de prueba: (346, 6)\n",
      "\n",
      "Fold 3:\n",
      " - Conjunto de entrenamiento: (1382, 6)\n",
      " - Conjunto de prueba: (346, 6)\n",
      "\n",
      "Fold 4:\n",
      " - Conjunto de entrenamiento: (1383, 6)\n",
      " - Conjunto de prueba: (345, 6)\n",
      "\n",
      "Fold 5:\n",
      " - Conjunto de entrenamiento: (1383, 6)\n",
      " - Conjunto de prueba: (345, 6)\n",
      "\n"
     ]
    }
   ],
   "source": [
    "\n",
    "# K-Fold Cross Validation (valor de K)\n",
    "K = 5\n",
    "kf = KFold(n_splits=K, shuffle=True, random_state=42)\n",
    "\n",
    "# Iterar sobre K-Folds\n",
    "print(\"K-Fold Cross-Validation:\")\n",
    "fold = 1\n",
    "for train_index, test_index in kf.split(X):\n",
    "    train_set = X.iloc[train_index]\n",
    "    test_set = X.iloc[test_index]\n",
    "    \n",
    "    print(f\"Fold {fold}:\")\n",
    "    print(f\" - Conjunto de entrenamiento: {train_set.shape}\")\n",
    "    print(f\" - Conjunto de prueba: {test_set.shape}\\n\")\n",
    "    fold += 1"
   ]
  },
  {
   "cell_type": "code",
   "execution_count": 5,
   "id": "00195ff7",
   "metadata": {},
   "outputs": [
    {
     "name": "stdout",
     "output_type": "stream",
     "text": [
      "Leave-One-Out Cross-Validation:\n",
      "Iteración 1:\n",
      " - Conjunto de entrenamiento: (1727, 6)\n",
      " - Conjunto de prueba: (1, 6)\n",
      "\n",
      "Iteración 2:\n",
      " - Conjunto de entrenamiento: (1727, 6)\n",
      " - Conjunto de prueba: (1, 6)\n",
      "\n",
      "Iteración 3:\n",
      " - Conjunto de entrenamiento: (1727, 6)\n",
      " - Conjunto de prueba: (1, 6)\n",
      "\n",
      "Iteración 4:\n",
      " - Conjunto de entrenamiento: (1727, 6)\n",
      " - Conjunto de prueba: (1, 6)\n",
      "\n",
      "Iteración 5:\n",
      " - Conjunto de entrenamiento: (1727, 6)\n",
      " - Conjunto de prueba: (1, 6)\n",
      "\n",
      "...\n",
      "Total de iteraciones: 5\n"
     ]
    }
   ],
   "source": [
    "# Leave-One-Out Cross Validation\n",
    "loo = LeaveOneOut()\n",
    "\n",
    "# Iterar sobre Leave-One-Out\n",
    "print(\"Leave-One-Out Cross-Validation:\")\n",
    "contador = 1\n",
    "for train_index, test_index in loo.split(X):\n",
    "    train_set = X.iloc[train_index]\n",
    "    test_set = X.iloc[test_index]\n",
    "    \n",
    "    print(f\"Iteración {contador}:\")\n",
    "    print(f\" - Conjunto de entrenamiento: {train_set.shape}\")\n",
    "    print(f\" - Conjunto de prueba: {test_set.shape}\\n\")\n",
    "    \n",
    "    contador += 1\n",
    "    if contador > 5:  # Solo mostrar las primeras 5 iteraciones\n",
    "        print(\"...\")\n",
    "        break\n",
    "\n",
    "print(f\"Total de iteraciones: {contador - 1}\")"
   ]
  }
 ],
 "metadata": {
  "kernelspec": {
   "display_name": "Env",
   "language": "python",
   "name": "env"
  },
  "language_info": {
   "codemirror_mode": {
    "name": "ipython",
    "version": 3
   },
   "file_extension": ".py",
   "mimetype": "text/x-python",
   "name": "python",
   "nbconvert_exporter": "python",
   "pygments_lexer": "ipython3",
   "version": "3.11.4"
  }
 },
 "nbformat": 4,
 "nbformat_minor": 5
}
