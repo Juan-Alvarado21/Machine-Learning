{
 "cells": [
  {
   "cell_type": "code",
   "execution_count": 19,
   "id": "03063cc7",
   "metadata": {},
   "outputs": [
    {
     "data": {
      "text/html": [
       "<div>\n",
       "<style scoped>\n",
       "    .dataframe tbody tr th:only-of-type {\n",
       "        vertical-align: middle;\n",
       "    }\n",
       "\n",
       "    .dataframe tbody tr th {\n",
       "        vertical-align: top;\n",
       "    }\n",
       "\n",
       "    .dataframe thead th {\n",
       "        text-align: right;\n",
       "    }\n",
       "</style>\n",
       "<table border=\"1\" class=\"dataframe\">\n",
       "  <thead>\n",
       "    <tr style=\"text-align: right;\">\n",
       "      <th></th>\n",
       "      <th>name</th>\n",
       "      <th>state</th>\n",
       "      <th>state2</th>\n",
       "    </tr>\n",
       "  </thead>\n",
       "  <tbody>\n",
       "    <tr>\n",
       "      <th>0</th>\n",
       "      <td>abelia</td>\n",
       "      <td>fl</td>\n",
       "      <td>nc</td>\n",
       "    </tr>\n",
       "    <tr>\n",
       "      <th>1</th>\n",
       "      <td>abelia x grandiflora</td>\n",
       "      <td>fl</td>\n",
       "      <td>nc</td>\n",
       "    </tr>\n",
       "    <tr>\n",
       "      <th>2</th>\n",
       "      <td>abelmoschus moschatus</td>\n",
       "      <td>hi</td>\n",
       "      <td>pr</td>\n",
       "    </tr>\n",
       "    <tr>\n",
       "      <th>3</th>\n",
       "      <td>abies alba</td>\n",
       "      <td>nc</td>\n",
       "      <td>NaN</td>\n",
       "    </tr>\n",
       "    <tr>\n",
       "      <th>4</th>\n",
       "      <td>abies bracteata</td>\n",
       "      <td>ca</td>\n",
       "      <td>NaN</td>\n",
       "    </tr>\n",
       "  </tbody>\n",
       "</table>\n",
       "</div>"
      ],
      "text/plain": [
       "                    name state state2\n",
       "0                 abelia    fl     nc\n",
       "1   abelia x grandiflora    fl     nc\n",
       "2  abelmoschus moschatus    hi     pr\n",
       "3             abies alba    nc    NaN\n",
       "4        abies bracteata    ca    NaN"
      ]
     },
     "execution_count": 19,
     "metadata": {},
     "output_type": "execute_result"
    }
   ],
   "source": [
    "#conversión y lectura del dataset \n",
    "\n",
    "import pandas as pd\n",
    "\n",
    "\n",
    "ruta_dataset= 'plants.csv'\n",
    "df= pd.read_csv(ruta_dataset)\n",
    "df.head()\n"
   ]
  },
  {
   "cell_type": "markdown",
   "id": "23917b6e",
   "metadata": {},
   "source": [
    "## Hold Out\n",
    "\n",
    "El método Hold-Out divide el dataset en un conjunto de entrenamiento y otro de prueba basándose en una proporción r definida por el usuario.\n",
    "\n",
    "Pasos: \n",
    "1. Definir la proporción r que determinará el tamaño del conjunto de prueba.\n",
    "2. Utilizar la función train_test_split de scikit-learn para realizar la división.\n"
   ]
  },
  {
   "cell_type": "code",
   "execution_count": 20,
   "id": "cdd3d10e",
   "metadata": {},
   "outputs": [
    {
     "name": "stdout",
     "output_type": "stream",
     "text": [
      "Tamaño del conjunto de entrenamiento: (13151, 3)\n",
      "Tamaño del conjunto de prueba: (3288, 3)\n"
     ]
    }
   ],
   "source": [
    "\n",
    "from sklearn.model_selection import train_test_split, KFold, LeaveOneOut\n",
    "\n",
    "# Parámetro: proporción de prueba\n",
    "r = 0.2 \n",
    "\n",
    "# División Hold-Out\n",
    "train_set, test_set = train_test_split(df, test_size=r, random_state=42, shuffle=True)\n",
    "\n",
    "print(f\"Tamaño del conjunto de entrenamiento: {train_set.shape}\")\n",
    "print(f\"Tamaño del conjunto de prueba: {test_set.shape}\")\n",
    " "
   ]
  },
  {
   "cell_type": "markdown",
   "id": "e0534343",
   "metadata": {},
   "source": [
    "## K-Fold Cross-Validation\n",
    "\n",
    "El método K-Fold Cross-Validation divide el dataset en K pliegues (folds) y realiza K iteraciones de entrenamiento y prueba, donde en cada iteración se utiliza un pliegue diferente como conjunto de prueba y los restantes como entrenamiento.\n",
    "\n",
    "\n",
    "Pasos: \n",
    "1. Definir el número de pliegues K.\n",
    "2. Utilizar la clase KFold de scikit-learn para generar las divisiones."
   ]
  },
  {
   "cell_type": "code",
   "execution_count": 21,
   "id": "17353170",
   "metadata": {},
   "outputs": [
    {
     "name": "stdout",
     "output_type": "stream",
     "text": [
      "Fold 1:\n",
      " - Tamaño del conjunto de entrenamiento: (13151, 3)\n",
      " - Tamaño del conjunto de prueba: (3288, 3)\n",
      "\n",
      "Fold 2:\n",
      " - Tamaño del conjunto de entrenamiento: (13151, 3)\n",
      " - Tamaño del conjunto de prueba: (3288, 3)\n",
      "\n",
      "Fold 3:\n",
      " - Tamaño del conjunto de entrenamiento: (13151, 3)\n",
      " - Tamaño del conjunto de prueba: (3288, 3)\n",
      "\n",
      "Fold 4:\n",
      " - Tamaño del conjunto de entrenamiento: (13151, 3)\n",
      " - Tamaño del conjunto de prueba: (3288, 3)\n",
      "\n",
      "Fold 5:\n",
      " - Tamaño del conjunto de entrenamiento: (13152, 3)\n",
      " - Tamaño del conjunto de prueba: (3287, 3)\n",
      "\n"
     ]
    }
   ],
   "source": [
    "# Parámetro: número de pliegues\n",
    "K = 5  \n",
    "\n",
    "# Inicializar KFold\n",
    "kf = KFold(n_splits=K, shuffle=True, random_state=42)\n",
    "\n",
    "# Enumerar pliegues e iterar \n",
    "fold = 1\n",
    "for train_index, test_index in kf.split(df):\n",
    "    train_set = df.iloc[train_index]\n",
    "    test_set = df.iloc[test_index]\n",
    "    \n",
    "    print(f\"Fold {fold}:\")\n",
    "    print(f\" - Tamaño del conjunto de entrenamiento: {train_set.shape}\")\n",
    "    print(f\" - Tamaño del conjunto de prueba: {test_set.shape}\\n\")\n",
    "    fold += 1\n",
    " "
   ]
  },
  {
   "cell_type": "markdown",
   "id": "1ab2ab88",
   "metadata": {},
   "source": [
    "## Leave-One-Out \n",
    "\n",
    "El método Leave-One-Out es un caso especial de K-Fold Cross-Validation donde K es igual al número de muestras en el dataset. En cada iteración, se deja una muestra para prueba y el resto para entrenamiento.\n",
    "\n",
    "Pasos:\n",
    "\n",
    "1. Inicializar la clase LeaveOneOut de scikit-learn.\n",
    "2. Iterar sobre las divisiones generadas."
   ]
  },
  {
   "cell_type": "code",
   "execution_count": 22,
   "id": "98a5eb73",
   "metadata": {},
   "outputs": [
    {
     "name": "stdout",
     "output_type": "stream",
     "text": [
      "Iteración 1:\n",
      " - Conjunto de entrenamiento: (16438, 3)\n",
      " - Conjunto de prueba: (1, 3)\n",
      "\n",
      "Iteración 2:\n",
      " - Conjunto de entrenamiento: (16438, 3)\n",
      " - Conjunto de prueba: (1, 3)\n",
      "\n",
      "Iteración 3:\n",
      " - Conjunto de entrenamiento: (16438, 3)\n",
      " - Conjunto de prueba: (1, 3)\n",
      "\n",
      "Iteración 4:\n",
      " - Conjunto de entrenamiento: (16438, 3)\n",
      " - Conjunto de prueba: (1, 3)\n",
      "\n",
      "Iteración 5:\n",
      " - Conjunto de entrenamiento: (16438, 3)\n",
      " - Conjunto de prueba: (1, 3)\n",
      "\n",
      "...\n",
      "Total de iteraciones: 5\n"
     ]
    }
   ],
   "source": [
    "# Inicializar Leave-One-Out\n",
    "loo = LeaveOneOut()\n",
    "\n",
    "# Contador para seguimiento\n",
    "contador = 1\n",
    "for train_index, test_index in loo.split(df):\n",
    "    train_set = df.iloc[train_index]\n",
    "    test_set = df.iloc[test_index]\n",
    "    \n",
    "     #Imprimir cada división \n",
    "    print(f\"Iteración {contador}:\")\n",
    "    print(f\" - Conjunto de entrenamiento: {train_set.shape}\")\n",
    "    print(f\" - Conjunto de prueba: {test_set.shape}\\n\")\n",
    "    \n",
    "    contador += 1\n",
    "    \n",
    "    if contador > 5:  # Solo mostrar las primeras 5 iteraciones\n",
    "        print(\"...\")\n",
    "        break\n",
    "\n",
    "print(f\"Total de iteraciones: {contador - 1}\")\n"
   ]
  }
 ],
 "metadata": {
  "kernelspec": {
   "display_name": "Env",
   "language": "python",
   "name": "env"
  },
  "language_info": {
   "codemirror_mode": {
    "name": "ipython",
    "version": 3
   },
   "file_extension": ".py",
   "mimetype": "text/x-python",
   "name": "python",
   "nbconvert_exporter": "python",
   "pygments_lexer": "ipython3",
   "version": "3.11.4"
  }
 },
 "nbformat": 4,
 "nbformat_minor": 5
}
